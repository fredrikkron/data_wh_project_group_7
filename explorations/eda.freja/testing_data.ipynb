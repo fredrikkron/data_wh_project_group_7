{
 "cells": [
  {
   "cell_type": "markdown",
   "id": "caeda017",
   "metadata": {},
   "source": [
    " # Extract API data"
   ]
  },
  {
   "cell_type": "markdown",
   "id": "79b3a14f",
   "metadata": {},
   "source": [
    "### Jobtech API "
   ]
  },
  {
   "cell_type": "code",
   "execution_count": 28,
   "id": "2871ce20",
   "metadata": {},
   "outputs": [
    {
     "ename": "SyntaxError",
     "evalue": "':' expected after dictionary key (35847681.py, line 16)",
     "output_type": "error",
     "traceback": [
      "  \u001b[36mCell\u001b[39m\u001b[36m \u001b[39m\u001b[32mIn[28]\u001b[39m\u001b[32m, line 16\u001b[39m\n\u001b[31m    \u001b[39m\u001b[31m...\u001b[39m\n      ^\n\u001b[31mSyntaxError\u001b[39m\u001b[31m:\u001b[39m ':' expected after dictionary key\n"
     ]
    }
   ],
   "source": [
    "{\n",
    "  \"total\": 1234,\n",
    "  \"hits\": [\n",
    "    {\n",
    "      \"id\": \"123\",\n",
    "      \"headline\": \"Math teacher\",\n",
    "      \"employer\": {\"name\": \"Stockholm School\"},\n",
    "      \"workplace_addresses\": [{\"municipality\": \"Stockholm\"}],\n",
    "      \"publication_date\": \"2025-08-25T00:00:00\",\n",
    "      \"webpage_url\": \"https://...\"\n",
    "    },\n",
    "    {\n",
    "      \"id\": \"124\",\n",
    "      \"headline\": \"Civil engineer\",\n",
    "      \"employer\": {\"name\": \"Bygg AB\"},\n",
    "      ...\n",
    "    }\n",
    "  ]\n",
    "}"
   ]
  },
  {
   "cell_type": "code",
   "execution_count": null,
   "id": "f7c2eee9",
   "metadata": {},
   "outputs": [],
   "source": [
    "import requests\n",
    "import pandas as pd\n",
    "\n",
    "url = \"https://jobsearch.api.jobtechdev.se/search\"\n",
    "params = {\n",
    "    \"occupation-field\": [\"j7Cq_ZJe_GkT\", \"9puE_nYg_crq\", \"MVqp_eS8_kDZ\"],\n",
    "    \"limit\": 50\n",
    "} # default 50\n",
    "\n",
    "r = requests.get(url, params=params)\n",
    "data = r.json()\n",
    "\n",
    "df = pd.DataFrame(data[\"hits\"])\n",
    "df.head()\n",
    "\n",
    "df.to_excel(\"jobtech_jobs.xlsx\", index=False)\n"
   ]
  },
  {
   "cell_type": "code",
   "execution_count": null,
   "id": "dd89a5a4",
   "metadata": {},
   "outputs": [],
   "source": [
    "import requests\n",
    "import pandas as pd\n",
    "\n",
    "url = \"https://jobsearch.api.jobtechdev.se/search\"\n",
    "params = {\n",
    "    \"occupation-field\": \"MVqp_eS8_kDZ\",  # only Pedagogik\n",
    "    \"limit\": 20\n",
    "}\n",
    "\n",
    "r = requests.get(url, params=params)\n",
    "data = r.json()\n",
    "\n",
    "df = pd.DataFrame(data[\"hits\"])\n",
    "df.head()\n",
    "\n",
    "df.to_excel(\"Pedagogik.xlsx\", index=False)\n"
   ]
  },
  {
   "cell_type": "code",
   "execution_count": 39,
   "id": "134525eb",
   "metadata": {},
   "outputs": [
    {
     "data": {
      "text/html": [
       "<div>\n",
       "<style scoped>\n",
       "    .dataframe tbody tr th:only-of-type {\n",
       "        vertical-align: middle;\n",
       "    }\n",
       "\n",
       "    .dataframe tbody tr th {\n",
       "        vertical-align: top;\n",
       "    }\n",
       "\n",
       "    .dataframe thead th {\n",
       "        text-align: right;\n",
       "    }\n",
       "</style>\n",
       "<table border=\"1\" class=\"dataframe\">\n",
       "  <thead>\n",
       "    <tr style=\"text-align: right;\">\n",
       "      <th></th>\n",
       "      <th>headline</th>\n",
       "      <th>description</th>\n",
       "      <th>salary_description</th>\n",
       "    </tr>\n",
       "  </thead>\n",
       "  <tbody>\n",
       "    <tr>\n",
       "      <th>0</th>\n",
       "      <td>Special Pedagogue</td>\n",
       "      <td>{'text': \"Internationella Engelska Skolan (IES...</td>\n",
       "      <td>Fixed salary</td>\n",
       "    </tr>\n",
       "    <tr>\n",
       "      <th>4</th>\n",
       "      <td>Teacher, Substitute</td>\n",
       "      <td>{'text': \"Internationella Engelska Skolan (IES...</td>\n",
       "      <td>Fixed salary</td>\n",
       "    </tr>\n",
       "    <tr>\n",
       "      <th>11</th>\n",
       "      <td>Teacher, Substitute</td>\n",
       "      <td>{'text': \"Internationella Engelska Skolan (IES...</td>\n",
       "      <td>Fixed salary</td>\n",
       "    </tr>\n",
       "    <tr>\n",
       "      <th>12</th>\n",
       "      <td>Teacher, Substitute</td>\n",
       "      <td>{'text': \"Internationella Engelska Skolan (IES...</td>\n",
       "      <td>Fixed salary</td>\n",
       "    </tr>\n",
       "  </tbody>\n",
       "</table>\n",
       "</div>"
      ],
      "text/plain": [
       "               headline                                        description  \\\n",
       "0     Special Pedagogue  {'text': \"Internationella Engelska Skolan (IES...   \n",
       "4   Teacher, Substitute  {'text': \"Internationella Engelska Skolan (IES...   \n",
       "11  Teacher, Substitute  {'text': \"Internationella Engelska Skolan (IES...   \n",
       "12  Teacher, Substitute  {'text': \"Internationella Engelska Skolan (IES...   \n",
       "\n",
       "   salary_description  \n",
       "0        Fixed salary  \n",
       "4        Fixed salary  \n",
       "11       Fixed salary  \n",
       "12       Fixed salary  "
      ]
     },
     "execution_count": 39,
     "metadata": {},
     "output_type": "execute_result"
    }
   ],
   "source": [
    "df = pd.read_excel(r\"Pedagogik.xlsx\")\n",
    "\n",
    "# Count jobs with 'Fast lön'\n",
    "fast_lon_jobs = df[df[\"salary_description\"] == \"Fixed salary\"]\n",
    "\n",
    "\n",
    "fast_lon_jobs[[\"headline\", \"description\", \"salary_description\"]]\n"
   ]
  },
  {
   "cell_type": "markdown",
   "id": "b42d6bdd",
   "metadata": {},
   "source": [
    "CLEAN DATA?\n",
    "- change titles\n",
    "- clean text \n",
    "- remove unused columns ( ex. car license )\n",
    "-"
   ]
  }
 ],
 "metadata": {
  "kernelspec": {
   "display_name": "env",
   "language": "python",
   "name": "python3"
  },
  "language_info": {
   "codemirror_mode": {
    "name": "ipython",
    "version": 3
   },
   "file_extension": ".py",
   "mimetype": "text/x-python",
   "name": "python",
   "nbconvert_exporter": "python",
   "pygments_lexer": "ipython3",
   "version": "3.12.5"
  }
 },
 "nbformat": 4,
 "nbformat_minor": 5
}
